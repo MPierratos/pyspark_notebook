{
 "cells": [
  {
   "cell_type": "markdown",
   "metadata": {},
   "source": [
    "#### Input is a list of names, age, and number of friends. We want to determine the average number of friends by age."
   ]
  },
  {
   "cell_type": "code",
   "execution_count": 1,
   "metadata": {},
   "outputs": [],
   "source": [
    "from pyspark import SparkConf, SparkContext\n",
    "import os, collections"
   ]
  },
  {
   "cell_type": "code",
   "execution_count": 2,
   "metadata": {},
   "outputs": [],
   "source": [
    "# Set spark to run on all cores \"local[*]\", set to \"local\" for 1 core, or replace with a number to specify the exact number\n",
    "# app name will show up in UI\n",
    "conf = SparkConf().setMaster(\"local[*]\").setAppName(\"FriendByAge\")\n",
    "sc = SparkContext(conf = conf)"
   ]
  },
  {
   "cell_type": "code",
   "execution_count": 3,
   "metadata": {},
   "outputs": [],
   "source": [
    "datadir = os.path.join(os.path.normpath(os.getcwd() + os.sep + os.pardir), 'data')\n",
    "datafile = os.path.join(datadir,'fakefriends.csv')"
   ]
  },
  {
   "cell_type": "markdown",
   "metadata": {},
   "source": [
    "sample data:\n",
    "\n",
    "row, name, age, number of friends\n",
    "\n",
    "`0,Will,33,385\n",
    "1,Jean-Luc,26,2\n",
    "2,Hugh,55,221\n",
    "3,Deanna,40,465`"
   ]
  },
  {
   "cell_type": "code",
   "execution_count": 9,
   "metadata": {},
   "outputs": [],
   "source": [
    "def parse_line(line):\n",
    "    \"\"\"Output tuple of age, number of friends\"\"\"\n",
    "    fields = line.split(',')\n",
    "    age = int(fields[2])\n",
    "    numFriends = int(fields[3])\n",
    "    return (age, numFriends)"
   ]
  },
  {
   "cell_type": "code",
   "execution_count": 10,
   "metadata": {},
   "outputs": [],
   "source": [
    "lines = sc.textFile(datafile)\n",
    "rdd = lines.map(parse_line)"
   ]
  },
  {
   "cell_type": "code",
   "execution_count": 11,
   "metadata": {},
   "outputs": [
    {
     "data": {
      "text/plain": [
       "[(33, 385), (26, 2), (55, 221), (40, 465), (68, 21)]"
      ]
     },
     "execution_count": 11,
     "metadata": {},
     "output_type": "execute_result"
    }
   ],
   "source": [
    "rdd.take(5)"
   ]
  },
  {
   "cell_type": "code",
   "execution_count": 13,
   "metadata": {},
   "outputs": [
    {
     "data": {
      "text/plain": [
       "[(33, (385, 1)), (26, (2, 1)), (55, (221, 1)), (40, (465, 1)), (68, (21, 1))]"
      ]
     },
     "execution_count": 13,
     "metadata": {},
     "output_type": "execute_result"
    }
   ],
   "source": [
    "rdd_mapvalues = rdd.mapValues(lambda x: (x, 1))\n",
    "rdd_mapvalues.take(5)"
   ]
  },
  {
   "cell_type": "code",
   "execution_count": 16,
   "metadata": {},
   "outputs": [
    {
     "data": {
      "text/plain": [
       "[(26,\n",
       "  (2,\n",
       "   1,\n",
       "   281,\n",
       "   1,\n",
       "   84,\n",
       "   1,\n",
       "   282,\n",
       "   1,\n",
       "   381,\n",
       "   1,\n",
       "   145,\n",
       "   1,\n",
       "   345,\n",
       "   1,\n",
       "   293,\n",
       "   1,\n",
       "   298,\n",
       "   1,\n",
       "   492,\n",
       "   1,\n",
       "   269,\n",
       "   1,\n",
       "   254,\n",
       "   1,\n",
       "   7,\n",
       "   1,\n",
       "   383,\n",
       "   1,\n",
       "   124,\n",
       "   1,\n",
       "   391,\n",
       "   1,\n",
       "   84,\n",
       "   1)),\n",
       " (40,\n",
       "  (465,\n",
       "   1,\n",
       "   254,\n",
       "   1,\n",
       "   459,\n",
       "   1,\n",
       "   407,\n",
       "   1,\n",
       "   18,\n",
       "   1,\n",
       "   284,\n",
       "   1,\n",
       "   389,\n",
       "   1,\n",
       "   349,\n",
       "   1,\n",
       "   406,\n",
       "   1,\n",
       "   198,\n",
       "   1,\n",
       "   172,\n",
       "   1,\n",
       "   33,\n",
       "   1,\n",
       "   56,\n",
       "   1,\n",
       "   7,\n",
       "   1,\n",
       "   261,\n",
       "   1,\n",
       "   286,\n",
       "   1,\n",
       "   220,\n",
       "   1)),\n",
       " (68,\n",
       "  (21,\n",
       "   1,\n",
       "   264,\n",
       "   1,\n",
       "   112,\n",
       "   1,\n",
       "   490,\n",
       "   1,\n",
       "   481,\n",
       "   1,\n",
       "   217,\n",
       "   1,\n",
       "   189,\n",
       "   1,\n",
       "   206,\n",
       "   1,\n",
       "   293,\n",
       "   1,\n",
       "   423,\n",
       "   1)),\n",
       " (54,\n",
       "  (307,\n",
       "   1,\n",
       "   253,\n",
       "   1,\n",
       "   75,\n",
       "   1,\n",
       "   440,\n",
       "   1,\n",
       "   7,\n",
       "   1,\n",
       "   441,\n",
       "   1,\n",
       "   235,\n",
       "   1,\n",
       "   369,\n",
       "   1,\n",
       "   397,\n",
       "   1,\n",
       "   462,\n",
       "   1,\n",
       "   72,\n",
       "   1,\n",
       "   442,\n",
       "   1,\n",
       "   115,\n",
       "   1)),\n",
       " (38,\n",
       "  (380,\n",
       "   1,\n",
       "   459,\n",
       "   1,\n",
       "   2,\n",
       "   1,\n",
       "   173,\n",
       "   1,\n",
       "   76,\n",
       "   1,\n",
       "   180,\n",
       "   1,\n",
       "   96,\n",
       "   1,\n",
       "   410,\n",
       "   1,\n",
       "   454,\n",
       "   1,\n",
       "   95,\n",
       "   1,\n",
       "   38,\n",
       "   1,\n",
       "   203,\n",
       "   1,\n",
       "   143,\n",
       "   1,\n",
       "   34,\n",
       "   1,\n",
       "   160,\n",
       "   1))]"
      ]
     },
     "execution_count": 16,
     "metadata": {},
     "output_type": "execute_result"
    }
   ],
   "source": [
    "totalFriends = rdd_mapvalues.reduceByKey(lambda x, y: x +y)\n",
    "totalFriends.take(5)"
   ]
  },
  {
   "cell_type": "code",
   "execution_count": null,
   "metadata": {},
   "outputs": [],
   "source": []
  }
 ],
 "metadata": {
  "kernelspec": {
   "display_name": "Python 3",
   "language": "python",
   "name": "python3"
  },
  "language_info": {
   "codemirror_mode": {
    "name": "ipython",
    "version": 3
   },
   "file_extension": ".py",
   "mimetype": "text/x-python",
   "name": "python",
   "nbconvert_exporter": "python",
   "pygments_lexer": "ipython3",
   "version": "3.6.7"
  }
 },
 "nbformat": 4,
 "nbformat_minor": 2
}
