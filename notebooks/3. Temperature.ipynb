{
 "cells": [
  {
   "cell_type": "markdown",
   "metadata": {},
   "source": [
    "#### Find lowest temperature by station, and entry type"
   ]
  },
  {
   "cell_type": "code",
   "execution_count": 1,
   "metadata": {},
   "outputs": [],
   "source": [
    "from pyspark import SparkConf, SparkContext\n",
    "import os\n",
    "\n",
    "# Set spark to run on all cores \"local[*]\", set to \"local\" for 1 core, or replace with a number to specify the exact number\n",
    "# app name will show up in UI\n",
    "conf = SparkConf().setMaster(\"local[*]\").setAppName(\"Temperature\")\n",
    "sc = SparkContext(conf = conf)\n",
    "\n",
    "# get data path\n",
    "datadir = os.path.join(os.path.normpath(os.getcwd() + os.sep + os.pardir), 'data')\n",
    "datafile = os.path.join(datadir,'1800.csv')"
   ]
  },
  {
   "cell_type": "code",
   "execution_count": 2,
   "metadata": {},
   "outputs": [],
   "source": [
    "def parseLine(line):\n",
    "    fields = line.split(',')\n",
    "    stationID = fields[0]\n",
    "    entryType = fields[2]\n",
    "    temperature = int(fields[3])\n",
    "    return (stationID, entryType, temperature)"
   ]
  },
  {
   "cell_type": "code",
   "execution_count": 13,
   "metadata": {},
   "outputs": [
    {
     "data": {
      "text/plain": [
       "[('ITE00100554', 'TMAX', -75),\n",
       " ('ITE00100554', 'TMIN', -148),\n",
       " ('GM000010962', 'PRCP', 0),\n",
       " ('EZE00100082', 'TMAX', -86),\n",
       " ('EZE00100082', 'TMIN', -135),\n",
       " ('ITE00100554', 'TMAX', -60),\n",
       " ('ITE00100554', 'TMIN', -125),\n",
       " ('GM000010962', 'PRCP', 0),\n",
       " ('EZE00100082', 'TMAX', -44),\n",
       " ('EZE00100082', 'TMIN', -130)]"
      ]
     },
     "execution_count": 13,
     "metadata": {},
     "output_type": "execute_result"
    }
   ],
   "source": [
    "lines = sc.textFile(datafile)\n",
    "parsedLines = lines.map(parseLine)\n",
    "parsedLines.take(10)"
   ]
  },
  {
   "cell_type": "code",
   "execution_count": 9,
   "metadata": {},
   "outputs": [],
   "source": [
    "minTemps = parsedLines.filter(lambda x: 'TMIN' in x[1])"
   ]
  },
  {
   "cell_type": "code",
   "execution_count": 15,
   "metadata": {},
   "outputs": [
    {
     "data": {
      "text/plain": [
       "[('ITE00100554', 'TMIN', -148),\n",
       " ('EZE00100082', 'TMIN', -135),\n",
       " ('ITE00100554', 'TMIN', -125)]"
      ]
     },
     "execution_count": 15,
     "metadata": {},
     "output_type": "execute_result"
    }
   ],
   "source": [
    "minTemps.take(3)"
   ]
  },
  {
   "cell_type": "code",
   "execution_count": 14,
   "metadata": {},
   "outputs": [
    {
     "data": {
      "text/plain": [
       "[('ITE00100554', -148), ('EZE00100082', -135), ('ITE00100554', -125)]"
      ]
     },
     "execution_count": 14,
     "metadata": {},
     "output_type": "execute_result"
    }
   ],
   "source": [
    "stationTemps = minTemps.map(lambda x: (x[0], x[2]))\n",
    "stationTemps.take(3)"
   ]
  },
  {
   "cell_type": "code",
   "execution_count": 7,
   "metadata": {},
   "outputs": [
    {
     "name": "stdout",
     "output_type": "stream",
     "text": [
      "ITE00100554-148.00\n",
      "EZE00100082-135.00\n"
     ]
    }
   ],
   "source": [
    "minTemps = stationTemps.reduceByKey(lambda x, y: min(x, y))\n",
    "\n",
    "results = minTemps.collect()\n",
    "\n",
    "for result in results:\n",
    "    print(result[0] + '{:.2f}'.format(result[1]))"
   ]
  },
  {
   "cell_type": "code",
   "execution_count": null,
   "metadata": {},
   "outputs": [],
   "source": []
  }
 ],
 "metadata": {
  "kernelspec": {
   "display_name": "Python 3",
   "language": "python",
   "name": "python3"
  },
  "language_info": {
   "codemirror_mode": {
    "name": "ipython",
    "version": 3
   },
   "file_extension": ".py",
   "mimetype": "text/x-python",
   "name": "python",
   "nbconvert_exporter": "python",
   "pygments_lexer": "ipython3",
   "version": "3.6.7"
  }
 },
 "nbformat": 4,
 "nbformat_minor": 2
}
