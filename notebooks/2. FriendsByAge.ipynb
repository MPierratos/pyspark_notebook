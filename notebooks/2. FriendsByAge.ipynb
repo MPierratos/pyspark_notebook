{
 "cells": [
  {
   "cell_type": "markdown",
   "metadata": {},
   "source": [
    "#### Input is a list of names, age, and number of friends. We want to determine the average number of friends by age."
   ]
  },
  {
   "cell_type": "code",
   "execution_count": 1,
   "metadata": {},
   "outputs": [],
   "source": [
    "from pyspark import SparkConf, SparkContext\n",
    "import os"
   ]
  },
  {
   "cell_type": "code",
   "execution_count": 2,
   "metadata": {},
   "outputs": [],
   "source": [
    "# Set spark to run on all cores \"local[*]\", set to \"local\" for 1 core, or replace with a number to specify the exact number\n",
    "# app name will show up in UI\n",
    "conf = SparkConf().setMaster(\"local[*]\").setAppName(\"FriendByAge\")\n",
    "sc = SparkContext(conf = conf)"
   ]
  },
  {
   "cell_type": "code",
   "execution_count": 3,
   "metadata": {},
   "outputs": [],
   "source": [
    "datadir = os.path.join(os.path.normpath(os.getcwd() + os.sep + os.pardir), 'data')\n",
    "datafile = os.path.join(datadir,'fakefriends.csv')"
   ]
  },
  {
   "cell_type": "markdown",
   "metadata": {},
   "source": [
    "sample data:\n",
    "\n",
    "row, name, age, number of friends\n",
    "\n",
    "`0,Will,33,385\n",
    "1,Jean-Luc,26,2\n",
    "2,Hugh,55,221\n",
    "3,Deanna,40,465`"
   ]
  },
  {
   "cell_type": "code",
   "execution_count": 4,
   "metadata": {},
   "outputs": [],
   "source": [
    "def parse_line(line):\n",
    "    \"\"\"Output tuple of age, number of friends\"\"\"\n",
    "    fields = line.split(',')\n",
    "    age = int(fields[2])\n",
    "    numFriends = int(fields[3])\n",
    "    return (age, numFriends)"
   ]
  },
  {
   "cell_type": "code",
   "execution_count": 5,
   "metadata": {},
   "outputs": [],
   "source": [
    "lines = sc.textFile(datafile)\n",
    "rdd = lines.map(parse_line)"
   ]
  },
  {
   "cell_type": "code",
   "execution_count": 6,
   "metadata": {},
   "outputs": [
    {
     "data": {
      "text/plain": [
       "[(33, 385), (26, 2), (55, 221), (40, 465), (68, 21)]"
      ]
     },
     "execution_count": 6,
     "metadata": {},
     "output_type": "execute_result"
    }
   ],
   "source": [
    "rdd.take(5)"
   ]
  },
  {
   "cell_type": "code",
   "execution_count": 7,
   "metadata": {},
   "outputs": [
    {
     "data": {
      "text/plain": [
       "[(33, (385, 1)), (26, (2, 1)), (55, (221, 1)), (40, (465, 1)), (68, (21, 1))]"
      ]
     },
     "execution_count": 7,
     "metadata": {},
     "output_type": "execute_result"
    }
   ],
   "source": [
    "rdd_mapvalues = rdd.mapValues(lambda x: (x, 1))\n",
    "rdd_mapvalues.take(5)"
   ]
  },
  {
   "cell_type": "code",
   "execution_count": 9,
   "metadata": {},
   "outputs": [
    {
     "data": {
      "text/plain": [
       "[(26, (4115, 17)),\n",
       " (40, (4264, 17)),\n",
       " (68, (2696, 10)),\n",
       " (54, (3615, 13)),\n",
       " (38, (2903, 15))]"
      ]
     },
     "execution_count": 9,
     "metadata": {},
     "output_type": "execute_result"
    }
   ],
   "source": [
    "totalByAge = rdd_mapvalues.reduceByKey(lambda x, y: (x[0]+y[0], x[1]+y[1]))\n",
    "totalByAge.take(5)"
   ]
  },
  {
   "cell_type": "code",
   "execution_count": 11,
   "metadata": {},
   "outputs": [
    {
     "name": "stdout",
     "output_type": "stream",
     "text": [
      "(18, 343.375)\n",
      "(19, 213.27272727272728)\n",
      "(20, 165.0)\n",
      "(21, 350.875)\n",
      "(22, 206.42857142857142)\n",
      "(23, 246.3)\n",
      "(24, 233.8)\n",
      "(25, 197.45454545454547)\n",
      "(26, 242.05882352941177)\n",
      "(27, 228.125)\n",
      "(28, 209.1)\n",
      "(29, 215.91666666666666)\n",
      "(30, 235.8181818181818)\n",
      "(31, 267.25)\n",
      "(32, 207.9090909090909)\n",
      "(33, 325.3333333333333)\n",
      "(34, 245.5)\n",
      "(35, 211.625)\n",
      "(36, 246.6)\n",
      "(37, 249.33333333333334)\n",
      "(38, 193.53333333333333)\n",
      "(39, 169.28571428571428)\n",
      "(40, 250.8235294117647)\n",
      "(41, 268.55555555555554)\n",
      "(42, 303.5)\n",
      "(43, 230.57142857142858)\n",
      "(44, 282.1666666666667)\n",
      "(45, 309.53846153846155)\n",
      "(46, 223.69230769230768)\n",
      "(47, 233.22222222222223)\n",
      "(48, 281.4)\n",
      "(49, 184.66666666666666)\n",
      "(50, 254.6)\n",
      "(51, 302.14285714285717)\n",
      "(52, 340.6363636363636)\n",
      "(53, 222.85714285714286)\n",
      "(54, 278.0769230769231)\n",
      "(55, 295.53846153846155)\n",
      "(56, 306.6666666666667)\n",
      "(57, 258.8333333333333)\n",
      "(58, 116.54545454545455)\n",
      "(59, 220.0)\n",
      "(60, 202.71428571428572)\n",
      "(61, 256.22222222222223)\n",
      "(62, 220.76923076923077)\n",
      "(63, 384.0)\n",
      "(64, 281.3333333333333)\n",
      "(65, 298.2)\n",
      "(66, 276.44444444444446)\n",
      "(67, 214.625)\n",
      "(68, 269.6)\n",
      "(69, 235.2)\n"
     ]
    }
   ],
   "source": [
    "averagebyAge = totalByAge.mapValues(lambda x: x[0] / x[1])\n",
    "results = averagebyAge.sortByKey(True).collect()\n",
    "for result in results:\n",
    "    print(result)"
   ]
  },
  {
   "cell_type": "code",
   "execution_count": null,
   "metadata": {},
   "outputs": [],
   "source": []
  }
 ],
 "metadata": {
  "kernelspec": {
   "display_name": "Python 3",
   "language": "python",
   "name": "python3"
  },
  "language_info": {
   "codemirror_mode": {
    "name": "ipython",
    "version": 3
   },
   "file_extension": ".py",
   "mimetype": "text/x-python",
   "name": "python",
   "nbconvert_exporter": "python",
   "pygments_lexer": "ipython3",
   "version": "3.6.7"
  }
 },
 "nbformat": 4,
 "nbformat_minor": 2
}
